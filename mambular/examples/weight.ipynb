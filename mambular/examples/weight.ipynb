{
 "cells": [
  {
   "cell_type": "code",
   "execution_count": 3,
   "metadata": {},
   "outputs": [],
   "source": [
    "from collections import Counter\n",
    "import numpy as np\n",
    "import pandas as pd\n",
    "import torch"
   ]
  },
  {
   "cell_type": "code",
   "execution_count": 4,
   "metadata": {},
   "outputs": [],
   "source": [
    "data = pd.read_csv('/data/high_risk_pregnant/pregnant/data/bishe_data_test/train.csv',low_memory=False)"
   ]
  },
  {
   "cell_type": "code",
   "execution_count": 5,
   "metadata": {},
   "outputs": [],
   "source": [
    "y1 = data[\"premature\"].values\n",
    "y1_counts = Counter(y1)\n",
    "y2 = data[\"low_BW\"].values\n",
    "y2_counts = Counter(y2)\n",
    "y3 = data[\"macrosomia\"].values\n",
    "y3_counts = Counter(y3)\n",
    "y4 = data[\"death\"].values\n",
    "y4_counts = Counter(y4)\n",
    "y5 = data[\"malformation\"].values\n",
    "y5_counts = Counter(y5)\n",
    "y6 = data[\"分娩方式\"].values\n",
    "y6_counts = Counter(y6)\n",
    "y7 = data[\"产后出血\"].values\n",
    "y7_counts = Counter(y7)\n",
    "y8 = data[\"SGA_S1\"].values\n",
    "y8_counts = Counter(y8)\n",
    "y9 = data[\"LGA_S1\"].values\n",
    "y9_counts = Counter(y9)"
   ]
  },
  {
   "cell_type": "code",
   "execution_count": 74,
   "metadata": {},
   "outputs": [
    {
     "data": {
      "text/plain": [
       "tensor([11.0076])"
      ]
     },
     "execution_count": 74,
     "metadata": {},
     "output_type": "execute_result"
    }
   ],
   "source": [
    "y1_counts\n",
    "y1_weight = torch.tensor([y1_counts.get(0) / y1_counts.get(1)])\n",
    "y1_weight"
   ]
  },
  {
   "cell_type": "code",
   "execution_count": 75,
   "metadata": {},
   "outputs": [
    {
     "data": {
      "text/plain": [
       "tensor([14.1575])"
      ]
     },
     "execution_count": 75,
     "metadata": {},
     "output_type": "execute_result"
    }
   ],
   "source": [
    "y2_counts\n",
    "y2_weight = torch.tensor([y2_counts.get(0) / y2_counts.get(1)])\n",
    "y2_weight"
   ]
  },
  {
   "cell_type": "code",
   "execution_count": 76,
   "metadata": {},
   "outputs": [
    {
     "data": {
      "text/plain": [
       "tensor([26.8558])"
      ]
     },
     "execution_count": 76,
     "metadata": {},
     "output_type": "execute_result"
    }
   ],
   "source": [
    "y3_counts\n",
    "y3_weight = torch.tensor([y3_counts.get(0) / y3_counts.get(1)])\n",
    "y3_weight"
   ]
  },
  {
   "cell_type": "code",
   "execution_count": 77,
   "metadata": {},
   "outputs": [
    {
     "data": {
      "text/plain": [
       "tensor([279.5243])"
      ]
     },
     "execution_count": 77,
     "metadata": {},
     "output_type": "execute_result"
    }
   ],
   "source": [
    "y4_counts\n",
    "y4_weight = torch.tensor([y4_counts.get(0) / y4_counts.get(1)])\n",
    "y4_weight"
   ]
  },
  {
   "cell_type": "code",
   "execution_count": 78,
   "metadata": {},
   "outputs": [
    {
     "data": {
      "text/plain": [
       "tensor([78.1981])"
      ]
     },
     "execution_count": 78,
     "metadata": {},
     "output_type": "execute_result"
    }
   ],
   "source": [
    "y5_counts\n",
    "y5_weight = torch.tensor([y5_counts.get(0) / y5_counts.get(1)])\n",
    "y5_weight"
   ]
  },
  {
   "cell_type": "code",
   "execution_count": 79,
   "metadata": {},
   "outputs": [
    {
     "data": {
      "text/plain": [
       "tensor([1.1464])"
      ]
     },
     "execution_count": 79,
     "metadata": {},
     "output_type": "execute_result"
    }
   ],
   "source": [
    "y6_counts\n",
    "y6_weight = torch.tensor([y6_counts.get(0) / y6_counts.get(1)])\n",
    "y6_weight"
   ]
  },
  {
   "cell_type": "code",
   "execution_count": 80,
   "metadata": {},
   "outputs": [
    {
     "data": {
      "text/plain": [
       "tensor([127.4524])"
      ]
     },
     "execution_count": 80,
     "metadata": {},
     "output_type": "execute_result"
    }
   ],
   "source": [
    "y7_counts\n",
    "y7_weight = torch.tensor([y7_counts.get(0) / y7_counts.get(1)])\n",
    "y7_weight"
   ]
  },
  {
   "cell_type": "code",
   "execution_count": 6,
   "metadata": {},
   "outputs": [
    {
     "data": {
      "text/plain": [
       "tensor([0.3291, 0.3340, 0.3368])"
      ]
     },
     "execution_count": 6,
     "metadata": {},
     "output_type": "execute_result"
    }
   ],
   "source": [
    "y8_counts\n",
    "y8_weights = torch.tensor([1.0 / np.log(y8_counts.get(i, 1)) for i in range(3)], dtype=torch.float)\n",
    "y8_weights = torch.softmax(y8_weights,dim=0)\n",
    "y8_weights"
   ]
  },
  {
   "cell_type": "code",
   "execution_count": 82,
   "metadata": {},
   "outputs": [
    {
     "data": {
      "text/plain": [
       "tensor([0.0665, 0.0781, 0.0858])"
      ]
     },
     "execution_count": 82,
     "metadata": {},
     "output_type": "execute_result"
    }
   ],
   "source": [
    "y9_counts\n",
    "y9_weights = torch.tensor([1.0 / np.log(y9_counts.get(i, 1)) for i in range(3)], dtype=torch.float)\n",
    "# y9_weights = torch.softmax(y9_weights,dim=0)\n",
    "y9_weights"
   ]
  },
  {
   "cell_type": "markdown",
   "metadata": {},
   "source": []
  }
 ],
 "metadata": {
  "kernelspec": {
   "display_name": "pregnant",
   "language": "python",
   "name": "python3"
  },
  "language_info": {
   "codemirror_mode": {
    "name": "ipython",
    "version": 3
   },
   "file_extension": ".py",
   "mimetype": "text/x-python",
   "name": "python",
   "nbconvert_exporter": "python",
   "pygments_lexer": "ipython3",
   "version": "3.10.15"
  }
 },
 "nbformat": 4,
 "nbformat_minor": 2
}
